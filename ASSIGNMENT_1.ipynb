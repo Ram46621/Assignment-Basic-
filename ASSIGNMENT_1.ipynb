{
  "nbformat": 4,
  "nbformat_minor": 0,
  "metadata": {
    "colab": {
      "provenance": []
    },
    "kernelspec": {
      "name": "python3",
      "display_name": "Python 3"
    },
    "language_info": {
      "name": "python"
    }
  },
  "cells": [
    {
      "cell_type": "markdown",
      "source": [
        "PYTHON BASCI QUESTION\n",
        "\n",
        "1. What is Python, and why is it popular?\n",
        "             Python is a high-level, easy-to learn programming language used for web developement, data science, A.I and more.\n",
        "\n",
        " Why is it so popular?\n",
        "\n",
        " easy to understand for biggener's.\n",
        "Powerful libraries - for data ai web etc.\n",
        "can be easily run in any platform. like., :- Windows, Mac, Linux etc.\n",
        "A big community - lots of support.\n",
        "\n",
        "        "
      ],
      "metadata": {
        "id": "2PpD7ejf4Q99"
      }
    },
    {
      "cell_type": "markdown",
      "source": [
        "2. What is an interpreter in Python?\n",
        "\n",
        "            An interpreter in Python is a program that reads and runs your code one line at a time. It doesn’t convert the whole code at once like a compiler. Instead, it checks each line, translates it, and runs it immediately. This helps in quickly finding errors and testing small parts of the code.\n",
        "\n",
        "\n"
      ],
      "metadata": {
        "id": "yQfs0sEkA92J"
      }
    },
    {
      "cell_type": "markdown",
      "source": [],
      "metadata": {
        "id": "VwlS2eu0BTd4"
      }
    },
    {
      "cell_type": "markdown",
      "source": [
        "  3. What are pre-defined keywords in Python?\n",
        "\n",
        "\n",
        "           Pre-defined keywords in Python are special reserved words that have specific meanings and uses in the language. These keywords are part of Python’s syntax and cannot be used as variable names, function names, or identifiers. Examples include if, else, while, for, def, class, and import. They help Python understand the structure and flow of your code."
      ],
      "metadata": {
        "id": "xiezRFGeBydH"
      }
    },
    {
      "cell_type": "markdown",
      "source": [
        "     4.  Can keywords be used as variable names?\n",
        "          No, keywords cannot be used as variable names in Python. Since keywords have special meanings in the language (like if, while, def), using them as variable names will cause a syntax error."
      ],
      "metadata": {
        "id": "aq-KijznB5mb"
      }
    },
    {
      "cell_type": "markdown",
      "source": [
        "  5.  What is mutability in Python?\n",
        "\n",
        "Mutability in Python means whether you can change the value of something after creating it.\n",
        "If something is mutable, like a list, you can change it later (add, remove items).\n",
        "\n",
        "If it’s immutable, like a string or number, you can’t change it — if you try, Python makes a new one instead."
      ],
      "metadata": {
        "id": "XqwPVFNvCJLP"
      }
    },
    {
      "cell_type": "markdown",
      "source": [
        " 6. Why are lists mutable, but tuples are immutable?\n",
        "\n",
        "Lists are mutable because they’re made to store and change data easily — we can add, remove, or change items inside them. Python allows this because lists are often used when data needs to be updated.\n",
        "Tuples are immutable because they’re made to protect data. Once a tuple is created, it stays the same. This makes them faster and safer for fixed data."
      ],
      "metadata": {
        "id": "f8cbYNTgCcr3"
      }
    },
    {
      "cell_type": "markdown",
      "source": [],
      "metadata": {
        "id": "FbNrvOElCg1I"
      }
    },
    {
      "cell_type": "markdown",
      "source": [
        "  7.  What is the difference between “==” and “is” operators in Python?\n",
        "\n",
        "In Python:\n",
        "== checks if two values are equal (it compares the actual data inside).\n",
        "\n",
        "Example: 5 == 5 is True.\n",
        "\n",
        "is checks if two variables point to the same object in memory.\n",
        "\n",
        "Example: a is b is True only if a and b are the exact same object.\n",
        "\n",
        "So, == checks value, is checks identity."
      ],
      "metadata": {
        "id": "_IkYHRhrwdgt"
      }
    },
    {
      "cell_type": "markdown",
      "source": [
        "8. What are logical operators in Python?\n",
        "\n",
        "\n",
        "  -  Logical operators in Python are used to combine multiple conditions or expressions. They return either True or False based on the logic. There are three main logical operators:\n",
        "\n",
        "and – Returns True if both conditions are true.\n",
        "Example: 5 > 2 and 3 < 4 → True\n",
        "\n",
        "or – Returns True if at least one condition is true.\n",
        "Example: 5 > 10 or 3 < 4 → True\n",
        "\n",
        "not – Reverses the result.\n",
        "Example: not True → False\n",
        "\n",
        "They are used mostly in if statements and decision-making."
      ],
      "metadata": {
        "id": "0stQZNohwrTW"
      }
    },
    {
      "cell_type": "markdown",
      "source": [
        "9. What is type casting in Python?\n",
        "\n",
        "  -  Type casting in Python means changing a value from one data type to another, like turning a number into a string or a string into a number. It helps when you're working with different kinds of data and need them to match.\n",
        "\n",
        "There are two types:\n",
        "\n",
        "  Implicit casting, which Python does on its own during calculations.\n",
        "\n",
        "  Explicit casting, where you manually change the type using functions like int(), float(), str(), or bool().\n",
        "\n",
        "Type casting is important for avoiding errors and making sure your data behaves the way you want in a program."
      ],
      "metadata": {
        "id": "h-f4ICTDxKAr"
      }
    },
    {
      "cell_type": "markdown",
      "source": [
        "10. What is the difference between implicit and explicit type casting?\n",
        "\n",
        "  -  Implicit and explicit type casting are two ways to change data types in Python:\n",
        "\n",
        "  *  Implicit type casting is done automatically by Python. It happens when Python safely converts one type to another during operations (like converting an int to a float).\n",
        "\n",
        "  *  Explicit type casting is done manually by the programmer using functions like int(), float(), or str().\n",
        "\n",
        " Hance, implicit = Python’s choice, explicit = your choice."
      ],
      "metadata": {
        "id": "i9KgQ84KxV10"
      }
    },
    {
      "cell_type": "markdown",
      "source": [
        "11. What is the purpose of conditional statements in Python?\n",
        "\n",
        "  -  The purpose of conditional statements in Python is to allow your program to make decisions and take different actions based on specific conditions.\n",
        "\n",
        "They help your code respond to different situations instead of just running straight from top to bottom. For example, if a user enters a certain input, the program can decide what to do next—like showing a message, running a calculation, or stopping the program.\n",
        "\n",
        "Python uses keywords like if, elif (else if), and else to create these conditions. These statements check whether a condition is true or false and then execute the related block of code.\n",
        "\n",
        "Without conditional statements, all programs would behave the same way every time, no matter the input or situation. With them, your programs become dynamic, smart, and interactive—just like real-world decision-making."
      ],
      "metadata": {
        "id": "slL2OgB3xgw4"
      }
    },
    {
      "cell_type": "markdown",
      "source": [
        "12. How does the elif statement work?\n",
        "\n",
        "  -  The elif statement in Python means \"else if\". It is used when you want to check multiple conditions one after another.\n",
        "\n",
        "     Here’s how it works:\n",
        "\n",
        "     First, Python checks the if condition.\n",
        "\n",
        "     If if is true, it runs that block and skips everything else.\n",
        "\n",
        "     If if is false, it checks the elif condition.\n",
        "\n",
        "     If elif is true, it runs that block.\n",
        "\n",
        "     If none of the if or elif conditions are true, then the else block (if present) runs.\n",
        "\n",
        "    \n",
        "\n",
        "So, elif helps you add more choices to your decision-making in code."
      ],
      "metadata": {
        "id": "JOQvl_T9xnEa"
      }
    },
    {
      "cell_type": "markdown",
      "source": [
        "13. What is the difference between for and while loops?\n",
        "\n",
        "  -  The difference between for and while loops in Python is in how they repeat code:\n",
        "\n",
        "A for loop is used when you know in advance how many times you want to run the loop. It goes through a sequence (like a list or range) one item at a time.\n",
        "\n",
        "A while loop is used when you don’t know exactly how many times to repeat something. It keeps running as long as a condition is true.\n",
        "\n",
        "In short:\n",
        "for = repeat a set number of times\n",
        "while = repeat until a condition becomes false."
      ],
      "metadata": {
        "id": "mWdvpBuLxsf0"
      }
    },
    {
      "cell_type": "markdown",
      "source": [
        "14. Describe a scenario where a while loop is more suitable than a for loop.\n",
        "\n",
        "-  A while loop is more suitable when you don’t know beforehand how many times the loop should run — you just want it to keep going until a condition changes.\n",
        "\n",
        "Example scenario:\n",
        "You’re asking a user to enter the correct password. You don’t know how many tries they’ll need, so you keep asking until they enter the right one. In this case, a while loop is perfect because it runs as long as the entered password is wrong, and stops only when the condition becomes false (i.e., the correct password is entered)."
      ],
      "metadata": {
        "id": "AzxoEw2CxyYV"
      }
    },
    {
      "cell_type": "markdown",
      "source": [
        "Python Practical Questions"
      ],
      "metadata": {
        "id": "n6neEQe8x32L"
      }
    },
    {
      "cell_type": "markdown",
      "source": [
        "1. Write a Python program to print \"Hello, World!\""
      ],
      "metadata": {
        "id": "pk-NGLc5yX-M"
      }
    },
    {
      "cell_type": "code",
      "source": [
        "print('hello world')"
      ],
      "metadata": {
        "colab": {
          "base_uri": "https://localhost:8080/"
        },
        "id": "buctKTDsyxve",
        "outputId": "75af6ec4-35b1-4eb6-a12d-3e929ccb6790"
      },
      "execution_count": 3,
      "outputs": [
        {
          "output_type": "stream",
          "name": "stdout",
          "text": [
            "hello world\n"
          ]
        }
      ]
    },
    {
      "cell_type": "markdown",
      "source": [
        "## 2. Write a Python program that displays your name and age."
      ],
      "metadata": {
        "id": "Dn4_2LQwzAaw"
      }
    },
    {
      "cell_type": "code",
      "source": [
        "name= 'Mr. Ramdheesh indramohan pandey'\n",
        "age= '27'\n",
        "print (name)\n",
        "print (age)"
      ],
      "metadata": {
        "colab": {
          "base_uri": "https://localhost:8080/"
        },
        "id": "WlE8mwiM07-n",
        "outputId": "c896367c-4c7b-46b1-cc04-1ecb7eba5e33"
      },
      "execution_count": 40,
      "outputs": [
        {
          "output_type": "stream",
          "name": "stdout",
          "text": [
            "Mr. Ramdheesh indramohan pandey\n",
            "27\n"
          ]
        }
      ]
    },
    {
      "cell_type": "markdown",
      "source": [
        "3. Write code to print all the pre-defined keywords in Python using the keyword library."
      ],
      "metadata": {
        "id": "UhlJRIOw6oe2"
      }
    },
    {
      "cell_type": "code",
      "source": [
        "print(\"keywords in python are\")\n",
        "import keyword\n",
        "print(keyword.kwlist)"
      ],
      "metadata": {
        "colab": {
          "base_uri": "https://localhost:8080/"
        },
        "id": "6PNhyzQH7Ame",
        "outputId": "ae681e27-f688-4e20-858e-2730d776e24b"
      },
      "execution_count": 41,
      "outputs": [
        {
          "output_type": "stream",
          "name": "stdout",
          "text": [
            "keywords in python are\n",
            "['False', 'None', 'True', 'and', 'as', 'assert', 'async', 'await', 'break', 'class', 'continue', 'def', 'del', 'elif', 'else', 'except', 'finally', 'for', 'from', 'global', 'if', 'import', 'in', 'is', 'lambda', 'nonlocal', 'not', 'or', 'pass', 'raise', 'return', 'try', 'while', 'with', 'yield']\n"
          ]
        }
      ]
    },
    {
      "cell_type": "markdown",
      "source": [
        "4. Write a program that checks if a given word is a Python keyword."
      ],
      "metadata": {
        "id": "ckoebyQN7ILv"
      }
    },
    {
      "cell_type": "code",
      "source": [
        "import keyword\n",
        "\n",
        "word = input(\"Enter a word: \")\n",
        "\n",
        "if keyword.iskeyword(word):\n",
        "    print(f\"'{word}' is a Python keyword.\")\n",
        "else:\n",
        "    print(f\"'{word}' is not a Python keyword.\")"
      ],
      "metadata": {
        "colab": {
          "base_uri": "https://localhost:8080/"
        },
        "id": "brWAovZh7hPL",
        "outputId": "cf694109-6e7c-450d-f2e1-f37a2899022c"
      },
      "execution_count": 44,
      "outputs": [
        {
          "output_type": "stream",
          "name": "stdout",
          "text": [
            "Enter a word: True\n",
            "'True' is a Python keyword.\n"
          ]
        }
      ]
    },
    {
      "cell_type": "markdown",
      "source": [
        "5. Create a list and tuple in Python, and demonstrate how attempting to change an element works differently\n",
        "for each."
      ],
      "metadata": {
        "id": "v3vnWFA078gq"
      }
    },
    {
      "cell_type": "markdown",
      "source": [
        "LIST"
      ],
      "metadata": {
        "id": "sqdrnqCL8UxB"
      }
    },
    {
      "cell_type": "code",
      "source": [
        "my_list = [10,20,30]\n",
        "a=sum(my_list)\n",
        "print(a)"
      ],
      "metadata": {
        "colab": {
          "base_uri": "https://localhost:8080/"
        },
        "id": "6jNUl4e-8CWv",
        "outputId": "dda08c76-945f-450e-8c8e-d2008a6f0a38"
      },
      "execution_count": 75,
      "outputs": [
        {
          "output_type": "stream",
          "name": "stdout",
          "text": [
            "60\n"
          ]
        }
      ]
    },
    {
      "cell_type": "markdown",
      "source": [
        "TUPLE"
      ],
      "metadata": {
        "id": "qLzFNLQ4_Xia"
      }
    },
    {
      "cell_type": "code",
      "source": [
        "my_tuple = (10, 20, 30)\n",
        "a=sum(my_tuple)\n",
        "print(a)"
      ],
      "metadata": {
        "colab": {
          "base_uri": "https://localhost:8080/"
        },
        "id": "v6j26uxMAoXy",
        "outputId": "b9443a42-7d7f-45b7-d41a-5d780f864b65"
      },
      "execution_count": 74,
      "outputs": [
        {
          "output_type": "stream",
          "name": "stdout",
          "text": [
            "60\n"
          ]
        }
      ]
    },
    {
      "cell_type": "markdown",
      "source": [
        "6. Write a function to demonstrate the behavior of mutable and immutable arguments."
      ],
      "metadata": {
        "id": "RZfeR-AjBBv6"
      }
    },
    {
      "cell_type": "code",
      "source": [
        "def test(a, b):\n",
        "    a += 5\n",
        "    b.append(10)"
      ],
      "metadata": {
        "id": "7AflvvIMBM9y"
      },
      "execution_count": 73,
      "outputs": []
    },
    {
      "cell_type": "markdown",
      "source": [
        "  7. Write a program that performs basic arithmetic operations on two user-input numbers."
      ],
      "metadata": {
        "id": "b0_gxjTNBzuj"
      }
    },
    {
      "cell_type": "markdown",
      "source": [
        "Here is a Python program that takes two numbers from the user and then does addition, subtraction, multiplication, and division:"
      ],
      "metadata": {
        "id": "cj8fbJqHCAmr"
      }
    },
    {
      "cell_type": "code",
      "source": [
        "a = float(input(\"Enter first number: \"))\n",
        "b = float(input(\"Enter second number: \"))\n",
        "\n",
        "print(\"Addition is:\", a + b)\n",
        "print(\"Subtraction is:\", a - b)\n",
        "print(\"Multiplication is:\", a * b)\n",
        "\n",
        "if b != 0:\n",
        "    print(\"Division is:\", a / b)\n",
        "else:\n",
        "    print(\"Cannot divide by zero\")"
      ],
      "metadata": {
        "colab": {
          "base_uri": "https://localhost:8080/"
        },
        "id": "w8uUBbYCDA9R",
        "outputId": "9db7eb54-a4be-49ce-97dd-8b56eaf1adb3"
      },
      "execution_count": 76,
      "outputs": [
        {
          "output_type": "stream",
          "name": "stdout",
          "text": [
            "Enter first number: 7\n",
            "Enter second number: 1\n",
            "Addition is: 8.0\n",
            "Subtraction is: 6.0\n",
            "Multiplication is: 7.0\n",
            "Division is: 7.0\n"
          ]
        }
      ]
    },
    {
      "cell_type": "markdown",
      "source": [
        "8. Write a program to demonstrate the use of logical operators."
      ],
      "metadata": {
        "id": "iOvuTrX2DShr"
      }
    },
    {
      "cell_type": "code",
      "source": [
        "a = 6\n",
        "b = 5\n",
        "c = 15\n",
        "\n",
        "# using and operator\n",
        "print(\"a > b and a < c:\", a > b and a < c)\n",
        "\n",
        "# using or operator\n",
        "print(\"a < b or a < c:\", a < b or a < c)\n",
        "\n",
        "# using not operator\n",
        "print(\"not(a > b):\", not(a > b))\n"
      ],
      "metadata": {
        "colab": {
          "base_uri": "https://localhost:8080/"
        },
        "id": "XbHMNbR1DbL7",
        "outputId": "74406553-03ca-4b7c-cd2e-c9963d3d3092"
      },
      "execution_count": 79,
      "outputs": [
        {
          "output_type": "stream",
          "name": "stdout",
          "text": [
            "a > b and a < c: True\n",
            "a < b or a < c: True\n",
            "not(a > b): False\n"
          ]
        }
      ]
    },
    {
      "cell_type": "markdown",
      "source": [
        "EXPLANATION"
      ],
      "metadata": {
        "id": "LEeFf_i2Dqp1"
      }
    },
    {
      "cell_type": "markdown",
      "source": [
        "and gives True only if both conditions are true.\n",
        "\n",
        "or gives True if at least one condition is true.\n",
        "\n",
        "not reverses the result — if it's True, it becomes False."
      ],
      "metadata": {
        "id": "HaKt33JYD5Dv"
      }
    },
    {
      "cell_type": "markdown",
      "source": [
        "9. Write a Python program to convert user input from string to integer, float, and boolean types."
      ],
      "metadata": {
        "id": "Uw91dPwaD_2H"
      }
    },
    {
      "cell_type": "code",
      "source": [
        "# Taking input from the user\n",
        "user_input = input(\"Enter something: \")\n",
        "\n",
        "# Converting to integer\n",
        "try:\n",
        "    int_value = int(user_input)\n",
        "    print(\"Integer value:\", int_value)\n",
        "except:\n",
        "    print(\"Cannot convert to integer.\")\n",
        "\n",
        "# Converting to float\n",
        "try:\n",
        "    float_value = float(user_input)\n",
        "    print(\"Float value:\", float_value)\n",
        "except:\n",
        "    print(\"Cannot convert to float.\")\n",
        "\n",
        "# Converting to boolean\n",
        "bool_value = bool(user_input)\n",
        "print(\"Boolean value:\", bool_value)"
      ],
      "metadata": {
        "colab": {
          "base_uri": "https://localhost:8080/"
        },
        "id": "pV0tGMohEURg",
        "outputId": "5f54caa6-4b8f-42a0-f624-9665cbd66936"
      },
      "execution_count": 80,
      "outputs": [
        {
          "output_type": "stream",
          "name": "stdout",
          "text": [
            "Enter something: 98\n",
            "Integer value: 98\n",
            "Float value: 98.0\n",
            "Boolean value: True\n"
          ]
        }
      ]
    },
    {
      "cell_type": "markdown",
      "source": [
        "10. Write code to demonstrate type casting with list elements."
      ],
      "metadata": {
        "id": "PcsFdn9BEf0S"
      }
    },
    {
      "cell_type": "code",
      "source": [
        "my_list = [\"10\", \"20\", \"30\"]\n",
        "\n",
        "int_list = [int(x) for x in my_list]\n",
        "float_list = [float(x) for x in int_list]\n",
        "\n",
        "print(\"Original list:\", my_list)\n",
        "print(\"As integers:\", int_list)\n",
        "print(\"As floats:\", float_list)"
      ],
      "metadata": {
        "colab": {
          "base_uri": "https://localhost:8080/"
        },
        "id": "QFWQGFsDEg-t",
        "outputId": "49665ab8-c396-4e83-ee93-3c004b533790"
      },
      "execution_count": 81,
      "outputs": [
        {
          "output_type": "stream",
          "name": "stdout",
          "text": [
            "Original list: ['10', '20', '30']\n",
            "As integers: [10, 20, 30]\n",
            "As floats: [10.0, 20.0, 30.0]\n"
          ]
        }
      ]
    },
    {
      "cell_type": "markdown",
      "source": [
        "11. Write a program that checks if a number is positive, negative, or zero."
      ],
      "metadata": {
        "id": "vjDHojDfEw_R"
      }
    },
    {
      "cell_type": "code",
      "source": [
        "num = float(input(\"Enter a number: \"))\n",
        "\n",
        "if num > 0:\n",
        "    print(\"The number is positive.\")\n",
        "elif num < 0:\n",
        "    print(\"The number is negative.\")\n",
        "else:\n",
        "    print(\"The number is zero.\")\n"
      ],
      "metadata": {
        "colab": {
          "base_uri": "https://localhost:8080/"
        },
        "id": "NURaExCUEyny",
        "outputId": "94e991a4-5124-41e0-9275-444e1666a75d"
      },
      "execution_count": 82,
      "outputs": [
        {
          "output_type": "stream",
          "name": "stdout",
          "text": [
            "Enter a number: 100\n",
            "The number is positive.\n"
          ]
        }
      ]
    },
    {
      "cell_type": "markdown",
      "source": [
        "12. Write a for loop to print numbers from 1 to 10."
      ],
      "metadata": {
        "id": "IdtofLTvE8vr"
      }
    },
    {
      "cell_type": "code",
      "source": [
        "for i in range(1, 11):\n",
        "    print(i)"
      ],
      "metadata": {
        "colab": {
          "base_uri": "https://localhost:8080/"
        },
        "id": "YIMPalxkE-HJ",
        "outputId": "fa2805a7-608b-41c2-81c9-029ae284fc48"
      },
      "execution_count": 83,
      "outputs": [
        {
          "output_type": "stream",
          "name": "stdout",
          "text": [
            "1\n",
            "2\n",
            "3\n",
            "4\n",
            "5\n",
            "6\n",
            "7\n",
            "8\n",
            "9\n",
            "10\n"
          ]
        }
      ]
    },
    {
      "cell_type": "markdown",
      "source": [
        "13. Write a Python program to find the sum of all even numbers between 1 and 50."
      ],
      "metadata": {
        "id": "QnFDYVR5FGlU"
      }
    },
    {
      "cell_type": "code",
      "source": [
        "sum = 0\n",
        "\n",
        "for i in range(1, 71):\n",
        "    if i % 2 == 0:\n",
        "        sum = sum + i\n",
        "print(\"Sum of even numbers from 1 to 50 is:\", sum)"
      ],
      "metadata": {
        "colab": {
          "base_uri": "https://localhost:8080/"
        },
        "id": "C1EAtySsFJ1s",
        "outputId": "6b22852c-fed1-4b2d-edab-a348dd1a523c"
      },
      "execution_count": 87,
      "outputs": [
        {
          "output_type": "stream",
          "name": "stdout",
          "text": [
            "Sum of even numbers from 1 to 50 is: 1260\n"
          ]
        }
      ]
    },
    {
      "cell_type": "markdown",
      "source": [
        "14. Write a program to reverse a string using a while loop."
      ],
      "metadata": {
        "id": "kfNwkgO_FfUf"
      }
    },
    {
      "cell_type": "code",
      "source": [
        "text = input(\"Enter a word: \")\n",
        "i = -1\n",
        "reverse = \"\"\n",
        "\n",
        "while i >= -len(text):\n",
        "    reverse = reverse + text[i]\n",
        "    i = i - 1\n",
        "\n",
        "print(\"Reversed word is:\", reverse)"
      ],
      "metadata": {
        "colab": {
          "base_uri": "https://localhost:8080/"
        },
        "id": "5Pj0MZ7QFjVx",
        "outputId": "8d0fcd49-d751-45e0-ad07-53847d64c00d"
      },
      "execution_count": 88,
      "outputs": [
        {
          "output_type": "stream",
          "name": "stdout",
          "text": [
            "Enter a word: ramdheesh\n",
            "Reversed word is: hseehdmar\n"
          ]
        }
      ]
    },
    {
      "cell_type": "markdown",
      "source": [
        "15. Write a Python program to calculate the factorial of a number provided by the user using a while loop."
      ],
      "metadata": {
        "id": "P-s-_mG2DLWN"
      }
    },
    {
      "cell_type": "code",
      "source": [
        "num = int(input(\"Enter a number: \"))\n",
        "fact = 1\n",
        "i = 1\n",
        "\n",
        "while i <= num:\n",
        "    fact = fact * i\n",
        "    i = i + 1\n",
        "\n",
        "print(\"Factorial is:\", fact)"
      ],
      "metadata": {
        "colab": {
          "base_uri": "https://localhost:8080/"
        },
        "id": "dWYFaCxbDpcI",
        "outputId": "29c4f192-5e9f-4e77-ffb1-0da003cf5e50"
      },
      "execution_count": 1,
      "outputs": [
        {
          "output_type": "stream",
          "name": "stdout",
          "text": [
            "Enter a number: 99\n",
            "Factorial is: 933262154439441526816992388562667004907159682643816214685929638952175999932299156089414639761565182862536979208272237582511852109168640000000000000000000000\n"
          ]
        }
      ]
    },
    {
      "cell_type": "code",
      "source": [
        "print(\"Factorial is\", +fact)"
      ],
      "metadata": {
        "colab": {
          "base_uri": "https://localhost:8080/"
        },
        "id": "VFbWnyR0EGmr",
        "outputId": "68afe934-2904-44e6-f4c4-1645b6a993ff"
      },
      "execution_count": 2,
      "outputs": [
        {
          "output_type": "stream",
          "name": "stdout",
          "text": [
            "Factorial is 933262154439441526816992388562667004907159682643816214685929638952175999932299156089414639761565182862536979208272237582511852109168640000000000000000000000\n"
          ]
        }
      ]
    }
  ]
}